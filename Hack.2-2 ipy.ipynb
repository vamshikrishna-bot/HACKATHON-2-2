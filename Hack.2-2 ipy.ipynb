{
  "nbformat": 4,
  "nbformat_minor": 0,
  "metadata": {
    "colab": {
      "provenance": []
    },
    "kernelspec": {
      "name": "python3",
      "display_name": "Python 3"
    },
    "language_info": {
      "name": "python"
    }
  },
  "cells": [
    {
      "cell_type": "code",
      "source": [
        "pip install dash pandas plotly dash-bootstrap-components\n"
      ],
      "metadata": {
        "colab": {
          "base_uri": "https://localhost:8080/"
        },
        "id": "y4Bk-s-ZoFTk",
        "outputId": "d309b034-b55c-4828-d234-a66e33ee9ad3"
      },
      "execution_count": 6,
      "outputs": [
        {
          "output_type": "stream",
          "name": "stdout",
          "text": [
            "Requirement already satisfied: dash in /usr/local/lib/python3.11/dist-packages (3.0.2)\n",
            "Requirement already satisfied: pandas in /usr/local/lib/python3.11/dist-packages (2.2.2)\n",
            "Requirement already satisfied: plotly in /usr/local/lib/python3.11/dist-packages (5.24.1)\n",
            "Collecting dash-bootstrap-components\n",
            "  Downloading dash_bootstrap_components-2.0.0-py3-none-any.whl.metadata (18 kB)\n",
            "Requirement already satisfied: Flask<3.1,>=1.0.4 in /usr/local/lib/python3.11/dist-packages (from dash) (3.0.3)\n",
            "Requirement already satisfied: Werkzeug<3.1 in /usr/local/lib/python3.11/dist-packages (from dash) (3.0.6)\n",
            "Requirement already satisfied: importlib-metadata in /usr/local/lib/python3.11/dist-packages (from dash) (8.6.1)\n",
            "Requirement already satisfied: typing-extensions>=4.1.1 in /usr/local/lib/python3.11/dist-packages (from dash) (4.13.0)\n",
            "Requirement already satisfied: requests in /usr/local/lib/python3.11/dist-packages (from dash) (2.32.3)\n",
            "Requirement already satisfied: retrying in /usr/local/lib/python3.11/dist-packages (from dash) (1.3.4)\n",
            "Requirement already satisfied: nest-asyncio in /usr/local/lib/python3.11/dist-packages (from dash) (1.6.0)\n",
            "Requirement already satisfied: setuptools in /usr/local/lib/python3.11/dist-packages (from dash) (75.2.0)\n",
            "Requirement already satisfied: numpy>=1.23.2 in /usr/local/lib/python3.11/dist-packages (from pandas) (2.0.2)\n",
            "Requirement already satisfied: python-dateutil>=2.8.2 in /usr/local/lib/python3.11/dist-packages (from pandas) (2.8.2)\n",
            "Requirement already satisfied: pytz>=2020.1 in /usr/local/lib/python3.11/dist-packages (from pandas) (2025.2)\n",
            "Requirement already satisfied: tzdata>=2022.7 in /usr/local/lib/python3.11/dist-packages (from pandas) (2025.2)\n",
            "Requirement already satisfied: tenacity>=6.2.0 in /usr/local/lib/python3.11/dist-packages (from plotly) (9.0.0)\n",
            "Requirement already satisfied: packaging in /usr/local/lib/python3.11/dist-packages (from plotly) (24.2)\n",
            "Requirement already satisfied: Jinja2>=3.1.2 in /usr/local/lib/python3.11/dist-packages (from Flask<3.1,>=1.0.4->dash) (3.1.6)\n",
            "Requirement already satisfied: itsdangerous>=2.1.2 in /usr/local/lib/python3.11/dist-packages (from Flask<3.1,>=1.0.4->dash) (2.2.0)\n",
            "Requirement already satisfied: click>=8.1.3 in /usr/local/lib/python3.11/dist-packages (from Flask<3.1,>=1.0.4->dash) (8.1.8)\n",
            "Requirement already satisfied: blinker>=1.6.2 in /usr/local/lib/python3.11/dist-packages (from Flask<3.1,>=1.0.4->dash) (1.9.0)\n",
            "Requirement already satisfied: six>=1.5 in /usr/local/lib/python3.11/dist-packages (from python-dateutil>=2.8.2->pandas) (1.17.0)\n",
            "Requirement already satisfied: MarkupSafe>=2.1.1 in /usr/local/lib/python3.11/dist-packages (from Werkzeug<3.1->dash) (3.0.2)\n",
            "Requirement already satisfied: zipp>=3.20 in /usr/local/lib/python3.11/dist-packages (from importlib-metadata->dash) (3.21.0)\n",
            "Requirement already satisfied: charset-normalizer<4,>=2 in /usr/local/lib/python3.11/dist-packages (from requests->dash) (3.4.1)\n",
            "Requirement already satisfied: idna<4,>=2.5 in /usr/local/lib/python3.11/dist-packages (from requests->dash) (3.10)\n",
            "Requirement already satisfied: urllib3<3,>=1.21.1 in /usr/local/lib/python3.11/dist-packages (from requests->dash) (2.3.0)\n",
            "Requirement already satisfied: certifi>=2017.4.17 in /usr/local/lib/python3.11/dist-packages (from requests->dash) (2025.1.31)\n",
            "Downloading dash_bootstrap_components-2.0.0-py3-none-any.whl (202 kB)\n",
            "\u001b[2K   \u001b[90m━━━━━━━━━━━━━━━━━━━━━━━━━━━━━━━━━━━━━━━━\u001b[0m \u001b[32m202.4/202.4 kB\u001b[0m \u001b[31m8.1 MB/s\u001b[0m eta \u001b[36m0:00:00\u001b[0m\n",
            "\u001b[?25hInstalling collected packages: dash-bootstrap-components\n",
            "Successfully installed dash-bootstrap-components-2.0.0\n"
          ]
        }
      ]
    },
    {
      "cell_type": "code",
      "source": [
        "import dash\n",
        "from dash import dcc, html, dash_table, Input, Output\n",
        "import pandas as pd\n",
        "import plotly.express as px\n",
        "import random\n",
        "import dash_bootstrap_components as dbc\n",
        "\n",
        "# Sample Data Generation\n",
        "vendors = [\"Vendor A\", \"Vendor B\", \"Vendor C\", \"Vendor D\"]\n",
        "hospitals = [\"Hospital X\", \"Hospital Y\", \"Hospital Z\"]\n",
        "drugs = [\"Paracetamol\", \"Ibuprofen\", \"Amoxicillin\", \"Aspirin\"]\n",
        "\n",
        "data = {\n",
        "    \"Vendor\": [random.choice(vendors) for _ in range(100)],\n",
        "    \"Drug\": [random.choice(drugs) for _ in range(100)],\n",
        "    \"Quantity\": [random.randint(100, 1000) for _ in range(100)],\n",
        "    \"Hospital\": [random.choice(hospitals) for _ in range(100)],\n",
        "    \"Status\": [random.choice([\"Ordered\", \"Shipped\", \"Delivered\"]) for _ in range(100)]\n",
        "}\n",
        "\n",
        "df = pd.DataFrame(data)\n",
        "\n",
        "# Initialize Dash App with a Futuristic Theme\n",
        "app = dash.Dash(__name__, external_stylesheets=[dbc.themes.SLATE])\n",
        "\n",
        "CARD_STYLE = {\n",
        "    \"background\": \"linear-gradient(145deg, #0f2027, #203a43, #2c5364)\",\n",
        "    \"borderRadius\": \"20px\",\n",
        "    \"padding\": \"25px\",\n",
        "    \"boxShadow\": \"0px 5px 15px rgba(0,0,0,0.4)\",\n",
        "    \"color\": \"white\",\n",
        "    \"textAlign\": \"center\",\n",
        "    \"transition\": \"transform 0.2s\",\n",
        "}\n",
        "\n",
        "app.layout = dbc.Container([\n",
        "    dbc.Row([\n",
        "        dbc.Col(html.H2(\"🚀 Smart Healthcare Procurement Dashboard\", className=\"text-center text-white my-4\"))\n",
        "    ]),\n",
        "\n",
        "    dbc.Row([\n",
        "        dbc.Col(dcc.Dropdown(id=\"vendor_filter\", options=[{\"label\": v, \"value\": v} for v in vendors], placeholder=\"🏢 Select Vendor\", multi=True), width=4),\n",
        "        dbc.Col(dcc.Dropdown(id=\"hospital_filter\", options=[{\"label\": h, \"value\": h} for h in hospitals], placeholder=\"🏥 Select Hospital\", multi=True), width=4),\n",
        "        dbc.Col(dcc.Dropdown(id=\"status_filter\", options=[{\"label\": s, \"value\": s} for s in [\"Ordered\", \"Shipped\", \"Delivered\"]], placeholder=\"✉️ Select Status\", multi=True), width=4)\n",
        "    ], className=\"mb-4\"),\n",
        "\n",
        "    dbc.Row([\n",
        "        dbc.Col(html.Div(id=\"total_orders\", style=CARD_STYLE), width=3),\n",
        "        dbc.Col(html.Div(id=\"total_shipped\", style=CARD_STYLE), width=3),\n",
        "        dbc.Col(html.Div(id=\"total_delivered\", style=CARD_STYLE), width=3),\n",
        "        dbc.Col(html.Div(id=\"total_drugs\", style=CARD_STYLE), width=3)\n",
        "    ], className=\"mb-4\"),\n",
        "\n",
        "    dbc.Row([\n",
        "        dbc.Col(dcc.Graph(id=\"shipment_pie\"), width=6),\n",
        "        dbc.Col(dcc.Graph(id=\"drug_bar\"), width=6)\n",
        "    ], className=\"mb-4\"),\n",
        "\n",
        "    dbc.Row([\n",
        "        dbc.Col([\n",
        "            html.H4(\"📅 Vendor Activity Log\", className=\"text-white mb-3\"),\n",
        "            dash_table.DataTable(id=\"data_table\",\n",
        "                                 columns=[{\"name\": i, \"id\": i} for i in df.columns],\n",
        "                                 style_table={'overflowX': 'auto'},\n",
        "                                 style_header={'backgroundColor': 'black', 'color': 'white', 'fontWeight': 'bold'},\n",
        "                                 style_cell={'backgroundColor': '#1e1e1e', 'color': 'white'})\n",
        "        ])\n",
        "    ])\n",
        "], fluid=True)\n",
        "\n",
        "@app.callback(\n",
        "    [Output(\"shipment_pie\", \"figure\"), Output(\"drug_bar\", \"figure\"),\n",
        "     Output(\"data_table\", \"data\"),\n",
        "     Output(\"total_orders\", \"children\"), Output(\"total_shipped\", \"children\"),\n",
        "     Output(\"total_delivered\", \"children\"), Output(\"total_drugs\", \"children\")],\n",
        "    [Input(\"vendor_filter\", \"value\"), Input(\"hospital_filter\", \"value\"), Input(\"status_filter\", \"value\")]\n",
        ")\n",
        "def update_dashboard(vendors_selected, hospitals_selected, statuses_selected):\n",
        "    filtered = df.copy()\n",
        "    if vendors_selected:\n",
        "        filtered = filtered[filtered['Vendor'].isin(vendors_selected)]\n",
        "    if hospitals_selected:\n",
        "        filtered = filtered[filtered['Hospital'].isin(hospitals_selected)]\n",
        "    if statuses_selected:\n",
        "        filtered = filtered[filtered['Status'].isin(statuses_selected)]\n",
        "\n",
        "    pie = px.pie(filtered, names='Status', title=\"📈 Distribution Status\", color_discrete_sequence=px.colors.sequential.Plasma)\n",
        "    bar = px.bar(filtered.groupby('Drug')['Quantity'].sum().reset_index(), x='Drug', y='Quantity',\n",
        "                 title=\"🔹 Drug Usage\", color='Drug', color_discrete_sequence=px.colors.sequential.Agsunset)\n",
        "\n",
        "    return pie, bar, filtered.to_dict(\"records\"), \\\n",
        "           f\"📦 Total Orders: {len(filtered)}\", \\\n",
        "           f\"🚚 Shipped: {len(filtered[filtered['Status'] == 'Shipped'])}\", \\\n",
        "           f\"✅ Delivered: {len(filtered[filtered['Status'] == 'Delivered'])}\", \\\n",
        "           f\"💊 Unique Drugs: {filtered['Drug'].nunique()}\"\n",
        "\n",
        "if __name__ == '__main__':\n",
        "    app.run(debug=True)\n"
      ],
      "metadata": {
        "colab": {
          "base_uri": "https://localhost:8080/",
          "height": 672
        },
        "id": "QTSLoK1Btp5O",
        "outputId": "e10be9cf-371e-4da7-9525-45e8dd4ba897"
      },
      "execution_count": 20,
      "outputs": [
        {
          "output_type": "display_data",
          "data": {
            "text/plain": [
              "<IPython.core.display.Javascript object>"
            ],
            "application/javascript": [
              "(async (port, path, width, height, cache, element) => {\n",
              "    if (!google.colab.kernel.accessAllowed && !cache) {\n",
              "      return;\n",
              "    }\n",
              "    element.appendChild(document.createTextNode(''));\n",
              "    const url = await google.colab.kernel.proxyPort(port, {cache});\n",
              "    const iframe = document.createElement('iframe');\n",
              "    iframe.src = new URL(path, url).toString();\n",
              "    iframe.height = height;\n",
              "    iframe.width = width;\n",
              "    iframe.style.border = 0;\n",
              "    iframe.allow = [\n",
              "        'accelerometer',\n",
              "        'autoplay',\n",
              "        'camera',\n",
              "        'clipboard-read',\n",
              "        'clipboard-write',\n",
              "        'gyroscope',\n",
              "        'magnetometer',\n",
              "        'microphone',\n",
              "        'serial',\n",
              "        'usb',\n",
              "        'xr-spatial-tracking',\n",
              "    ].join('; ');\n",
              "    element.appendChild(iframe);\n",
              "  })(8050, \"/\", \"100%\", 650, false, window.element)"
            ]
          },
          "metadata": {}
        }
      ]
    },
    {
      "cell_type": "code",
      "source": [],
      "metadata": {
        "id": "iwmrqHT10V2j"
      },
      "execution_count": null,
      "outputs": []
    }
  ]
}